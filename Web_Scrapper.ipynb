{
 "cells": [
  {
   "cell_type": "code",
   "execution_count": null,
   "metadata": {},
   "outputs": [],
   "source": [
    "! pip install beautifulsoup4"
   ]
  },
  {
   "cell_type": "code",
   "execution_count": null,
   "metadata": {},
   "outputs": [],
   "source": [
    "! pip install selenium"
   ]
  },
  {
   "cell_type": "code",
   "execution_count": null,
   "metadata": {},
   "outputs": [],
   "source": [
    "from selenium import webdriver\n",
    "from bs4 import BeautifulSoup\n",
    "from selenium.webdriver.chrome.service import Service as ChromeService\n",
    "from webdriver_manager.chrome import ChromeDriverManager\n",
    "import pandas as pd\n",
    "\n",
    "import time"
   ]
  },
  {
   "cell_type": "code",
   "execution_count": null,
   "metadata": {},
   "outputs": [],
   "source": [
    "# We open Chrome browser in incognito mode\n",
    "service = ChromeService(executable_path=ChromeDriverManager().install())\n",
    "\n",
    "chrome_options = webdriver.ChromeOptions()\n",
    "chrome_options.add_argument(\"--incognito\")\n",
    "\n",
    "driver = webdriver.Chrome(service=service, chrome_options=chrome_options)"
   ]
  },
  {
   "cell_type": "code",
   "execution_count": null,
   "metadata": {},
   "outputs": [],
   "source": [
    "# Link to the desired page to be scraped\n",
    "driver.get('https://foxhugh.com/interview-questions/list-of-interview-questions/');\n",
    "\n",
    "# Save all the content in the \"soup\" variable\n",
    "content = driver.page_source\n",
    "soup = BeautifulSoup(content)\n",
    "\n",
    "#List to store de questions\n",
    "allQuestions = [] \n",
    "\n",
    "#The content we want is in a \"ol\" type layer \n",
    "new = soup.ol\n",
    "\n",
    "#Get the content\n",
    "parent=new.findAll('li')\n",
    "\n",
    "#Iterate the content 1 by 1\n",
    "for child in parent:\n",
    "    print(child.string)\n",
    "    allQuestions.append(child.string)"
   ]
  },
  {
   "cell_type": "code",
   "execution_count": null,
   "metadata": {},
   "outputs": [],
   "source": [
    "# Loop to delete duplicated and None questions (in case that there are)\n",
    "questions = []\n",
    " \n",
    "for element in allQuestions:\n",
    "    if element != None :\n",
    "        if element not in questions:\n",
    "            questions.append(element)\n",
    "\n",
    "print(questions)"
   ]
  },
  {
   "cell_type": "code",
   "execution_count": null,
   "metadata": {},
   "outputs": [],
   "source": [
    "#We will iterate over all the saved questions and translate them all, we have 1003\n",
    "print(len(questions))\n",
    "print(len(allQuestions))"
   ]
  },
  {
   "cell_type": "code",
   "execution_count": null,
   "metadata": {},
   "outputs": [],
   "source": [
    "print(questions)"
   ]
  },
  {
   "cell_type": "code",
   "execution_count": null,
   "metadata": {},
   "outputs": [],
   "source": [
    "#Save all the questions in a CSV\n",
    "df = pd.DataFrame({'Interviewer Questions':questions}) \n",
    "df.to_csv('Interviewer_Questions.csv', index=False, encoding='utf-8')"
   ]
  },
  {
   "cell_type": "code",
   "execution_count": null,
   "metadata": {},
   "outputs": [],
   "source": [
    "from selenium.webdriver.common.by import By\n",
    "import pyperclip\n",
    "\n",
    "#Now lets go to the google traductor page\n",
    "driver.get('https://translate.google.es/?hl=es&sl=en&tl=es&op=translate');\n",
    "time.sleep(5) # Let the user actually see something!"
   ]
  },
  {
   "cell_type": "code",
   "execution_count": null,
   "metadata": {},
   "outputs": [],
   "source": [
    "#Accept google cookies\n",
    "driver.find_element(By.XPATH, \"//span[normalize-space()='Acepto']\").click()"
   ]
  },
  {
   "cell_type": "code",
   "execution_count": null,
   "metadata": {},
   "outputs": [],
   "source": [
    "# Global list to save the translated questions\n",
    "questions_translated = []"
   ]
  },
  {
   "cell_type": "code",
   "execution_count": null,
   "metadata": {},
   "outputs": [],
   "source": [
    "len(questions)"
   ]
  },
  {
   "cell_type": "code",
   "execution_count": null,
   "metadata": {},
   "outputs": [],
   "source": [
    "i=0\n",
    "stop=0\n",
    "\n",
    "# Get the search box and clean it \n",
    "search_box = driver.find_element(By.CLASS_NAME, \"er8xn\")\n",
    "search_box.clear()\n",
    "\n",
    "def questions_traductor(index):\n",
    "    i=index\n",
    "    last_answer=[]\n",
    "    translation=[]\n",
    "    \n",
    "    while i < len(questions):\n",
    "        #if the program fails, stop will save the index and it will restart at the point where failed\n",
    "        stop=i\n",
    "        \n",
    "        # Print the position and question to see if everything goes well\n",
    "        print(i)\n",
    "        print(questions[i])        \n",
    "        \n",
    "        # If the question actually exists (errors or blank lines could be imported in the scrapping)\n",
    "        if questions[i] is not None:\n",
    "\n",
    "            # Get the search_box to send the question\n",
    "            try:\n",
    "                search_box = driver.find_element(By.CLASS_NAME, \"er8xn\")\n",
    "            except:\n",
    "                questions_traductor(stop)\n",
    "\n",
    "            # Questions sended to the translator\n",
    "            search_box.send_keys(questions[i])\n",
    "            \n",
    "            # Counter\n",
    "            iteration=0\n",
    "            \n",
    "            # Sleep needed to let the traductor respond, if the actual question and the last one are the same\n",
    "            # we must keep waiting, this solution is better than waiting a constant amount of time \n",
    "            while (last_answer==translation):\n",
    "                \n",
    "                #if the program is stuck in here (>5 iterations) its probably because the 2 original sentences are similar\n",
    "                #and only change a comma or any other punctuaction mark, but that is ignored by the translator because\n",
    "                #the destiny language doesnt need it so the program detects that 2 very similar sentences are the same\n",
    "                #and keeps trying to make a better traduction\n",
    "                iteration=iteration+1\n",
    "                if iteration>5:\n",
    "                    break\n",
    "                \n",
    "                print(\"Equals, more time needed for the translator to respond\")\n",
    "                time.sleep(1)\n",
    "                try:\n",
    "                    # find the copy translation button and click on it\n",
    "                    driver.find_element(By.XPATH, \"//button[@aria-label='Copiar traducción']//div[@class='VfPpkd-Bz112c-RLmnJb']\").click()\n",
    "                    translation = []\n",
    "                    translation=pyperclip.paste()\n",
    "                except:\n",
    "                    questions_traductor(stop)\n",
    "            \n",
    "            print(\"Last question\", last_answer)\n",
    "            print(\"Current question\", translation)\n",
    "\n",
    "            # Append the translation\n",
    "            questions_translated.append(translation)\n",
    "\n",
    "            # Clear the search box to keep translating\n",
    "            search_box.clear()\n",
    "            \n",
    "            # The actual answer will be the last in the next iteration so we can check and wait till traductor responds\n",
    "            last_answer=translation\n",
    "            last=questions[i]\n",
    "            \n",
    "            \n",
    "        \n",
    "        # Next question, doesnt matter if the question before existed or not\n",
    "        i=i+1"
   ]
  },
  {
   "cell_type": "code",
   "execution_count": null,
   "metadata": {},
   "outputs": [],
   "source": [
    "questions_traductor(stop)"
   ]
  },
  {
   "cell_type": "code",
   "execution_count": null,
   "metadata": {},
   "outputs": [],
   "source": [
    "#Save all the questions in a CSV\n",
    "df = pd.DataFrame({'Interviewer Questions Translated':questions_translated}) \n",
    "df.to_csv('Interviewer_Questions_Translated_v2.csv', index=False, encoding='utf-8')"
   ]
  },
  {
   "cell_type": "code",
   "execution_count": null,
   "metadata": {
    "scrolled": true
   },
   "outputs": [],
   "source": [
    "# Check that the lenght is the same as the original questions list\n",
    "len(questions_translated)"
   ]
  },
  {
   "cell_type": "code",
   "execution_count": null,
   "metadata": {},
   "outputs": [],
   "source": [
    "print(questions_translated)"
   ]
  },
  {
   "cell_type": "code",
   "execution_count": null,
   "metadata": {},
   "outputs": [],
   "source": [
    "#Loop to check if there is any repeated question or none\n",
    "\n",
    "last=[]\n",
    "\n",
    "for element in questions_translated:\n",
    "    if element != None :\n",
    "        if element not in last:\n",
    "            last.append(element)\n",
    "        else:\n",
    "            print(\"REPEATED\")\n",
    "    else:\n",
    "        print(\"NONE\")"
   ]
  },
  {
   "cell_type": "code",
   "execution_count": null,
   "metadata": {},
   "outputs": [],
   "source": [
    "#Close the driver\n",
    "driver.quit()"
   ]
  },
  {
   "cell_type": "code",
   "execution_count": null,
   "metadata": {},
   "outputs": [],
   "source": []
  }
 ],
 "metadata": {
  "kernelspec": {
   "display_name": "Python 3",
   "language": "python",
   "name": "python3"
  },
  "language_info": {
   "codemirror_mode": {
    "name": "ipython",
    "version": 3
   },
   "file_extension": ".py",
   "mimetype": "text/x-python",
   "name": "python",
   "nbconvert_exporter": "python",
   "pygments_lexer": "ipython3",
   "version": "3.8.5"
  }
 },
 "nbformat": 4,
 "nbformat_minor": 4
}
